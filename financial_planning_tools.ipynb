{
 "cells": [
  {
   "cell_type": "markdown",
   "metadata": {},
   "source": [
    "# Financial Planning with APIs and Simulations"
   ]
  },
  {
   "cell_type": "code",
   "execution_count": 4,
   "metadata": {},
   "outputs": [
    {
     "ename": "ModuleNotFoundError",
     "evalue": "No module named 'MCForecastTools'",
     "output_type": "error",
     "traceback": [
      "\u001b[0;31m---------------------------------------------------------------------------\u001b[0m",
      "\u001b[0;31mModuleNotFoundError\u001b[0m                       Traceback (most recent call last)",
      "Cell \u001b[0;32mIn[4], line 8\u001b[0m\n\u001b[1;32m      6\u001b[0m \u001b[38;5;28;01mfrom\u001b[39;00m \u001b[38;5;21;01mdotenv\u001b[39;00m \u001b[38;5;28;01mimport\u001b[39;00m load_dotenv\n\u001b[1;32m      7\u001b[0m \u001b[38;5;28;01mimport\u001b[39;00m \u001b[38;5;21;01malpaca_trade_api\u001b[39;00m \u001b[38;5;28;01mas\u001b[39;00m \u001b[38;5;21;01mtradeapi\u001b[39;00m\n\u001b[0;32m----> 8\u001b[0m \u001b[38;5;28;01mfrom\u001b[39;00m \u001b[38;5;21;01mMCForecastTools\u001b[39;00m \u001b[38;5;28;01mimport\u001b[39;00m MCSimulation\n\u001b[1;32m      9\u001b[0m \u001b[38;5;28;01mimport\u001b[39;00m \u001b[38;5;21;01mdatetime\u001b[39;00m \u001b[38;5;28;01mas\u001b[39;00m \u001b[38;5;21;01mdatetime\u001b[39;00m\n\u001b[1;32m     10\u001b[0m get_ipython()\u001b[38;5;241m.\u001b[39mrun_line_magic(\u001b[38;5;124m'\u001b[39m\u001b[38;5;124mmatplotlib\u001b[39m\u001b[38;5;124m'\u001b[39m, \u001b[38;5;124m'\u001b[39m\u001b[38;5;124minline\u001b[39m\u001b[38;5;124m'\u001b[39m)\n",
      "\u001b[0;31mModuleNotFoundError\u001b[0m: No module named 'MCForecastTools'"
     ]
    }
   ],
   "source": [
    "# Import the required libraries and dependencies\n",
    "import os\n",
    "import requests\n",
    "import json\n",
    "import pandas as pd\n",
    "from dotenv import load_dotenv\n",
    "import alpaca_trade_api as tradeapi\n",
    "from MCForecastTools import MCSimulation\n",
    "import datetime as datetime\n",
    "%matplotlib inline      "
   ]
  },
  {
   "cell_type": "code",
   "execution_count": 5,
   "metadata": {},
   "outputs": [
    {
     "data": {
      "text/plain": [
       "True"
      ]
     },
     "execution_count": 5,
     "metadata": {},
     "output_type": "execute_result"
    }
   ],
   "source": [
    "# Load the environment variables from the .env file\n",
    "#by calling the load_dotenv function\n",
    "load_dotenv()"
   ]
  },
  {
   "cell_type": "markdown",
   "metadata": {},
   "source": [
    "## Part 1: Create a Financial Planner for Emergencies"
   ]
  },
  {
   "cell_type": "code",
   "execution_count": 4,
   "metadata": {},
   "outputs": [],
   "source": [
    "# The current number of coins for each cryptocurrency asset held in the portfolio.\n",
    "btc_coins = 1.2\n",
    "eth_coins = 5.3"
   ]
  },
  {
   "cell_type": "markdown",
   "metadata": {},
   "source": [
    "#### Step 1: Create a variable named `monthly_income`, and set its value to `12000`."
   ]
  },
  {
   "cell_type": "code",
   "execution_count": 5,
   "metadata": {},
   "outputs": [],
   "source": [
    "# The monthly amount for the member's household income\n",
    "monthly_income = 12000"
   ]
  },
  {
   "cell_type": "markdown",
   "metadata": {},
   "source": [
    "## Review the endpoint URLs for the API calls to Free Crypto API in order to get the current pricing information for both BTC and ETH."
   ]
  },
  {
   "cell_type": "code",
   "execution_count": 6,
   "metadata": {},
   "outputs": [],
   "source": [
    "# The Free Crypto API Call endpoint URLs for the held cryptocurrency assets\n",
    "btc_url = \"https://api.alternative.me/v2/ticker/Bitcoin/?convert=USD\"\n",
    "eth_url = \"https://api.alternative.me/v2/ticker/Ethereum/?convert=USD\""
   ]
  },
  {
   "cell_type": "markdown",
   "metadata": {},
   "source": [
    "#### Step 2. Use the Requests library to get the current price (in US dollars) of Bitcoin (BTC) and Ethereum (ETH) by using the API endpoints that the starter code supplied."
   ]
  },
  {
   "cell_type": "code",
   "execution_count": 7,
   "metadata": {},
   "outputs": [
    {
     "name": "stdout",
     "output_type": "stream",
     "text": [
      "{\n",
      "    \"data\": {\n",
      "        \"1\": {\n",
      "            \"circulating_supply\": 18948031,\n",
      "            \"id\": 1,\n",
      "            \"last_updated\": 1643918914,\n",
      "            \"max_supply\": 21000000,\n",
      "            \"name\": \"Bitcoin\",\n",
      "            \"quotes\": {\n",
      "                \"USD\": {\n",
      "                    \"market_cap\": 694473931742,\n",
      "                    \"percent_change_1h\": -0.771907815890245,\n",
      "                    \"percent_change_24h\": -2.90468844355041,\n",
      "                    \"percent_change_7d\": -0.746596723278233,\n",
      "                    \"percentage_change_1h\": -0.771907815890245,\n",
      "                    \"percentage_change_24h\": -2.90468844355041,\n",
      "                    \"percentage_change_7d\": -0.746596723278233,\n",
      "                    \"price\": 36595.0,\n",
      "                    \"volume_24h\": 16903357412\n",
      "                }\n",
      "            },\n",
      "            \"rank\": 1,\n",
      "            \"symbol\": \"BTC\",\n",
      "            \"total_supply\": 18948031,\n",
      "            \"website_slug\": \"bitcoin\"\n",
      "        }\n",
      "    },\n",
      "    \"metadata\": {\n",
      "        \"error\": null,\n",
      "        \"num_cryptocurrencies\": 3105,\n",
      "        \"timestamp\": 1643918914\n",
      "    }\n",
      "}\n"
     ]
    }
   ],
   "source": [
    "# Using the Python requests library, make an API call to access the current price of BTC\n",
    "btc_response = requests.get(btc_url).json()  # By using requests.get we can get the current price of BTC from the API endpoint\n",
    "\n",
    "# Use the json.dumps function to review the response data from the API call\n",
    "# Use the indent and sort_keys parameters to make the response object readable\n",
    "print(json.dumps(btc_response, indent=4, sort_keys=True)) # Using json.dumps allows us to review our data\n"
   ]
  },
  {
   "cell_type": "code",
   "execution_count": 10,
   "metadata": {},
   "outputs": [
    {
     "name": "stdout",
     "output_type": "stream",
     "text": [
      "{\n",
      "    \"data\": {\n",
      "        \"1027\": {\n",
      "            \"circulating_supply\": 119431740,\n",
      "            \"id\": 1027,\n",
      "            \"last_updated\": 1643918925,\n",
      "            \"max_supply\": 0,\n",
      "            \"name\": \"Ethereum\",\n",
      "            \"quotes\": {\n",
      "                \"USD\": {\n",
      "                    \"market_cap\": 311211207460,\n",
      "                    \"percent_change_1h\": -1.21689068437754,\n",
      "                    \"percent_change_24h\": -4.22961406254985,\n",
      "                    \"percent_change_7d\": 5.19687269442493,\n",
      "                    \"percentage_change_1h\": -1.21689068437754,\n",
      "                    \"percentage_change_24h\": -4.22961406254985,\n",
      "                    \"percentage_change_7d\": 5.19687269442493,\n",
      "                    \"price\": 2598.82,\n",
      "                    \"volume_24h\": 22891007934\n",
      "                }\n",
      "            },\n",
      "            \"rank\": 2,\n",
      "            \"symbol\": \"ETH\",\n",
      "            \"total_supply\": 119431740,\n",
      "            \"website_slug\": \"ethereum\"\n",
      "        }\n",
      "    },\n",
      "    \"metadata\": {\n",
      "        \"error\": null,\n",
      "        \"num_cryptocurrencies\": 3105,\n",
      "        \"timestamp\": 1643918925\n",
      "    }\n",
      "}\n"
     ]
    }
   ],
   "source": [
    "# Using the Python requests library, make an API call to access the current price ETH\n",
    "eth_response = requests.get(eth_url).json()\n",
    "\n",
    "# Use the json.dumps function to review the response data from the API call\n",
    "# Use the indent and sort_keys parameters to make the response object readable\n",
    "# YOUR CODE HERE\n",
    "print(json.dumps(eth_response, indent = 4, sort_keys = True))"
   ]
  },
  {
   "cell_type": "markdown",
   "metadata": {},
   "source": [
    "#### Step 3: Navigate the JSON response object to access the current price of each coin, and store each in a variable."
   ]
  },
  {
   "cell_type": "code",
   "execution_count": 11,
   "metadata": {},
   "outputs": [
    {
     "name": "stdout",
     "output_type": "stream",
     "text": [
      "The Current Price of Bitcoin is $36595.0\n"
     ]
    }
   ],
   "source": [
    "# Navigate the BTC response object to access the current price of BTC\n",
    "btc_price = btc_response[\"data\"][\"1\"][\"quotes\"][\"USD\"][\"price\"]\n",
    "\n",
    "# Print the current price of BTC\n",
    "print(f\"The Current Price of Bitcoin is ${btc_price}\")\n"
   ]
  },
  {
   "cell_type": "code",
   "execution_count": 12,
   "metadata": {},
   "outputs": [
    {
     "name": "stdout",
     "output_type": "stream",
     "text": [
      "The Current Price of Ethereum is $2598.82\n"
     ]
    }
   ],
   "source": [
    "# Navigate the BTC response object to access the current price of ETH\n",
    "eth_price = eth_response[\"data\"][\"1027\"][\"quotes\"][\"USD\"][\"price\"]\n",
    "\n",
    "# Print the current price of ETH\n",
    "print(f\"The Current Price of Ethereum is ${eth_price}\")\n"
   ]
  },
  {
   "cell_type": "markdown",
   "metadata": {},
   "source": [
    "### Step 4: Calculate the value, in US dollars, of the current amount of each cryptocurrency and of the entire cryptocurrency wallet."
   ]
  },
  {
   "cell_type": "code",
   "execution_count": 13,
   "metadata": {},
   "outputs": [
    {
     "name": "stdout",
     "output_type": "stream",
     "text": [
      "The Current Value of your Bitcoin holdings is $43914.0\n"
     ]
    }
   ],
   "source": [
    "# Compute the current value of the BTC holding \n",
    "btc_value = btc_coins * btc_price\n",
    "\n",
    "# Print current value of your holding in BTC\n",
    "print(f\"The Current Value of your Bitcoin holdings is ${btc_value}\")\n"
   ]
  },
  {
   "cell_type": "code",
   "execution_count": 14,
   "metadata": {},
   "outputs": [
    {
     "name": "stdout",
     "output_type": "stream",
     "text": [
      "The Current Value of your Ethereum holdings is $13773.746000000001\n"
     ]
    }
   ],
   "source": [
    "# Compute the current value of the ETH holding \n",
    "eth_value = eth_coins * eth_price\n",
    "\n",
    "# Print current value of your holding in ETH\n",
    "print(f\"The Current Value of your Ethereum holdings is ${eth_value}\")\n"
   ]
  },
  {
   "cell_type": "code",
   "execution_count": 15,
   "metadata": {},
   "outputs": [
    {
     "name": "stdout",
     "output_type": "stream",
     "text": [
      "The total value of your cryptocurrency wallet is $57687.746\n"
     ]
    }
   ],
   "source": [
    "# Compute the total value of the cryptocurrency wallet\n",
    "# Add the value of the BTC holding to the value of the ETH holding\n",
    "total_crypto_wallet = btc_value + eth_value\n",
    "\n",
    "# Print current cryptocurrency wallet balance\n",
    "print(f\"The total value of your cryptocurrency wallet is ${total_crypto_wallet}\")\n"
   ]
  },
  {
   "cell_type": "markdown",
   "metadata": {},
   "source": [
    "### Evaluate the Stock and Bond Holdings by Using the Alpaca SDK"
   ]
  },
  {
   "cell_type": "markdown",
   "metadata": {},
   "source": [
    "#### Review the total number of shares held in both (SPY) and (AGG)."
   ]
  },
  {
   "cell_type": "code",
   "execution_count": 16,
   "metadata": {},
   "outputs": [],
   "source": [
    "# Current amount of shares held in both the stock (SPY) and bond (AGG) portion of the portfolio.\n",
    "spy_shares = 110\n",
    "agg_shares = 200\n"
   ]
  },
  {
   "cell_type": "code",
   "execution_count": 17,
   "metadata": {},
   "outputs": [],
   "source": [
    "# Set the variables for the Alpaca API and secret keys\n",
    "alpaca_api_key = os.getenv(\"ALPACA_API_KEY\")\n",
    "alpaca_secret_key = os.getenv(\"ALPACA_API_SECRET\")  # Using os.getenv will allow us to import our API keys without exposing them\n",
    "\n",
    "# Create the Alpaca tradeapi.REST object\n",
    "alpaca = tradeapi.REST(alpaca_api_key, alpaca_secret_key, api_version = \"V2\")\n"
   ]
  },
  {
   "cell_type": "markdown",
   "metadata": {},
   "source": [
    "#### Step 3: Set the following parameters for the Alpaca API call:"
   ]
  },
  {
   "cell_type": "code",
   "execution_count": 18,
   "metadata": {},
   "outputs": [],
   "source": [
    "# Set the tickers for both the bond and stock portion of the portfolio\n",
    "tickers = [\"SPY\", \"AGG\"]\n",
    "\n",
    "# Set timeframe to 1D \n",
    "timeframe = \"1D\"\n",
    "\n",
    "# Format current date as ISO format\n",
    "# Set both the start and end date at the date of your prior weekday \n",
    "# This will give you the closing price of the previous trading day\n",
    "# Alternatively you can use a start and end date of 2020-08-07\n",
    "start_date = pd.Timestamp(\"2022-01-31\", tz = \"America/Chicago\").isoformat()\n",
    "end_date = pd.Timestamp(\"2022-01-31\", tz = \"America/Chicago\").isoformat()\n"
   ]
  },
  {
   "cell_type": "markdown",
   "metadata": {},
   "source": [
    "#### Step 4: Get the current closing prices for `SPY` and `AGG` by using the Alpaca `get_barset` function. Format the response as a Pandas DataFrame by including the `df` property at the end of the `get_barset` function."
   ]
  },
  {
   "cell_type": "code",
   "execution_count": 19,
   "metadata": {},
   "outputs": [
    {
     "name": "stderr",
     "output_type": "stream",
     "text": [
      "C:\\Users\\omar\\anaconda3\\envs\\dev\\lib\\site-packages\\ipykernel_launcher.py:3: DeprecatedWarning: get_barset is deprecated as of v1.0.0. Use get_bars instead\n",
      "  This is separate from the ipykernel package so we can avoid doing imports until\n"
     ]
    },
    {
     "data": {
      "text/html": [
       "<div>\n",
       "<style scoped>\n",
       "    .dataframe tbody tr th:only-of-type {\n",
       "        vertical-align: middle;\n",
       "    }\n",
       "\n",
       "    .dataframe tbody tr th {\n",
       "        vertical-align: top;\n",
       "    }\n",
       "\n",
       "    .dataframe thead tr th {\n",
       "        text-align: left;\n",
       "    }\n",
       "\n",
       "    .dataframe thead tr:last-of-type th {\n",
       "        text-align: right;\n",
       "    }\n",
       "</style>\n",
       "<table border=\"1\" class=\"dataframe\">\n",
       "  <thead>\n",
       "    <tr>\n",
       "      <th></th>\n",
       "      <th colspan=\"5\" halign=\"left\">AGG</th>\n",
       "      <th colspan=\"5\" halign=\"left\">SPY</th>\n",
       "    </tr>\n",
       "    <tr>\n",
       "      <th></th>\n",
       "      <th>open</th>\n",
       "      <th>high</th>\n",
       "      <th>low</th>\n",
       "      <th>close</th>\n",
       "      <th>volume</th>\n",
       "      <th>open</th>\n",
       "      <th>high</th>\n",
       "      <th>low</th>\n",
       "      <th>close</th>\n",
       "      <th>volume</th>\n",
       "    </tr>\n",
       "    <tr>\n",
       "      <th>time</th>\n",
       "      <th></th>\n",
       "      <th></th>\n",
       "      <th></th>\n",
       "      <th></th>\n",
       "      <th></th>\n",
       "      <th></th>\n",
       "      <th></th>\n",
       "      <th></th>\n",
       "      <th></th>\n",
       "      <th></th>\n",
       "    </tr>\n",
       "  </thead>\n",
       "  <tbody>\n",
       "    <tr>\n",
       "      <th>2022-01-31 00:00:00-05:00</th>\n",
       "      <td>111.64</td>\n",
       "      <td>111.89</td>\n",
       "      <td>111.6</td>\n",
       "      <td>111.78</td>\n",
       "      <td>11437834</td>\n",
       "      <td>441.24</td>\n",
       "      <td>450.28</td>\n",
       "      <td>439.81</td>\n",
       "      <td>449.815</td>\n",
       "      <td>128202383</td>\n",
       "    </tr>\n",
       "  </tbody>\n",
       "</table>\n",
       "</div>"
      ],
      "text/plain": [
       "                              AGG                                      SPY  \\\n",
       "                             open    high    low   close    volume    open   \n",
       "time                                                                         \n",
       "2022-01-31 00:00:00-05:00  111.64  111.89  111.6  111.78  11437834  441.24   \n",
       "\n",
       "                                                               \n",
       "                             high     low    close     volume  \n",
       "time                                                           \n",
       "2022-01-31 00:00:00-05:00  450.28  439.81  449.815  128202383  "
      ]
     },
     "execution_count": 19,
     "metadata": {},
     "output_type": "execute_result"
    }
   ],
   "source": [
    "# Use the Alpaca get_barset function to get current closing prices the portfolio\n",
    "# Be sure to set the `df` property after the function to format the response object as a DataFrame\n",
    "prices_df = alpaca.get_barset(tickers, timeframe, start = start_date, end = end_date).df\n",
    "# The get_barset function will allow us to see our data based on the variables we input in the function\n",
    "\n",
    "# Review the first 5 rows of the Alpaca DataFrame\n",
    "prices_df.head()\n"
   ]
  },
  {
   "cell_type": "markdown",
   "metadata": {},
   "source": [
    "#### Step 5: Navigating the Alpaca response DataFrame, select the `SPY` and `AGG` closing prices, and store them as variables."
   ]
  },
  {
   "cell_type": "code",
   "execution_count": 20,
   "metadata": {},
   "outputs": [
    {
     "name": "stdout",
     "output_type": "stream",
     "text": [
      "The closing price for AGG is $111.78\n"
     ]
    }
   ],
   "source": [
    "# Access the closing price for AGG from the Alpaca DataFrame\n",
    "# Converting the value to a floating point number\n",
    "agg_close_price = float(prices_df[\"AGG\"][\"close\"])\n",
    "\n",
    "# Print the AGG closing price\n",
    "print(f\"The closing price for AGG is ${agg_close_price}\")\n"
   ]
  },
  {
   "cell_type": "code",
   "execution_count": 21,
   "metadata": {},
   "outputs": [
    {
     "name": "stdout",
     "output_type": "stream",
     "text": [
      "The closing price for SPY is $449.815\n"
     ]
    }
   ],
   "source": [
    "# Access the closing price for SPY from the Alpaca DataFrame\n",
    "# Converting the value to a floating point number\n",
    "spy_close_price = float(prices_df[\"SPY\"][\"close\"])\n",
    "\n",
    "# Print the SPY closing price\n",
    "print(f\"The closing price for SPY is ${spy_close_price}\")"
   ]
  },
  {
   "cell_type": "markdown",
   "metadata": {},
   "source": [
    "#### Step 6: Calculate the value, in US dollars, of the current amount of shares in each of the stock and bond portions of the portfolio, and print the results."
   ]
  },
  {
   "cell_type": "code",
   "execution_count": 22,
   "metadata": {},
   "outputs": [
    {
     "name": "stdout",
     "output_type": "stream",
     "text": [
      "The current value of the bond portfolio is $22356.0\n"
     ]
    }
   ],
   "source": [
    "# Calculate the current value of the bond portion of the portfolio\n",
    "agg_value = agg_close_price * agg_shares\n",
    "\n",
    "# Print the current value of the bond portfolio\n",
    "print(f\"The current value of the bond portfolio is ${agg_value}\")\n"
   ]
  },
  {
   "cell_type": "code",
   "execution_count": 23,
   "metadata": {},
   "outputs": [
    {
     "name": "stdout",
     "output_type": "stream",
     "text": [
      "The current value of the stock portfolio is $49479.65\n"
     ]
    }
   ],
   "source": [
    "# Calculate the current value of the stock portion of the portfolio\n",
    "spy_value = spy_close_price * spy_shares\n",
    "\n",
    "# Print the current value of the stock portfolio\n",
    "print(f\"The current value of the stock portfolio is ${spy_value}\")\n"
   ]
  },
  {
   "cell_type": "code",
   "execution_count": 24,
   "metadata": {},
   "outputs": [
    {
     "name": "stdout",
     "output_type": "stream",
     "text": [
      "The current balance of the stock and bond portion of the portfolio is $71835.65\n"
     ]
    }
   ],
   "source": [
    "# Calculate the total value of the stock and bond portion of the portfolio\n",
    "total_stocks_bonds = agg_value + spy_value\n",
    "\n",
    "# Print the current balance of the stock and bond portion of the portfolio\n",
    "print(f\"The current balance of the stock and bond portion of the portfolio is ${total_stocks_bonds}\")\n"
   ]
  },
  {
   "cell_type": "code",
   "execution_count": 25,
   "metadata": {},
   "outputs": [
    {
     "name": "stdout",
     "output_type": "stream",
     "text": [
      "The current balance of the total portfolio is $ 129523.40\n"
     ]
    }
   ],
   "source": [
    "# Calculate the total value of the member's entire savings portfolio\n",
    "# Add the value of the cryptocurrency walled to the value of the total stocks and bonds\n",
    "total_portfolio = total_stocks_bonds + total_crypto_wallet\n",
    "\n",
    "# Print current cryptocurrency wallet balance\n",
    "print(f\"The current balance of the total portfolio is ${total_portfolio: .2f}\")\n"
   ]
  },
  {
   "cell_type": "markdown",
   "metadata": {},
   "source": [
    "### Evaluate the Emergency Fund\n",
    "\n"
   ]
  },
  {
   "cell_type": "markdown",
   "metadata": {},
   "source": [
    "#### Step 1: Create a Python list named `savings_data` that has two elements. The first element contains the total value of the cryptocurrency wallet. The second element contains the total value of the stock and bond portions of the portfolio."
   ]
  },
  {
   "cell_type": "code",
   "execution_count": 26,
   "metadata": {},
   "outputs": [
    {
     "data": {
      "text/plain": [
       "['Crypto', 'Stocks/Bonds']"
      ]
     },
     "execution_count": 26,
     "metadata": {},
     "output_type": "execute_result"
    }
   ],
   "source": [
    "# Consolidate financial assets data into a Python list\n",
    "savings_data = [\"Crypto\", \"Stocks/Bonds\"]\n",
    "\n",
    "# Review the Python list savings_data\n",
    "savings_data\n",
    "    "
   ]
  },
  {
   "cell_type": "markdown",
   "metadata": {},
   "source": [
    "#### Step 2: Use the `savings_data` list to create a Pandas DataFrame named `savings_df`, and then display this DataFrame. The function to create the DataFrame should take the following three parameters:\n",
    "\n",
    "- `savings_data`: Use the list that you just created.\n",
    "\n",
    "- `columns`: Set this parameter equal to a Python list with a single value called `amount`.\n",
    "\n",
    "- `index`: Set this parameter equal to a Python list with the values of `crypto` and `stock/bond`.\n"
   ]
  },
  {
   "cell_type": "code",
   "execution_count": 27,
   "metadata": {},
   "outputs": [
    {
     "data": {
      "text/html": [
       "<div>\n",
       "<style scoped>\n",
       "    .dataframe tbody tr th:only-of-type {\n",
       "        vertical-align: middle;\n",
       "    }\n",
       "\n",
       "    .dataframe tbody tr th {\n",
       "        vertical-align: top;\n",
       "    }\n",
       "\n",
       "    .dataframe thead th {\n",
       "        text-align: right;\n",
       "    }\n",
       "</style>\n",
       "<table border=\"1\" class=\"dataframe\">\n",
       "  <thead>\n",
       "    <tr style=\"text-align: right;\">\n",
       "      <th></th>\n",
       "      <th>Amount</th>\n",
       "    </tr>\n",
       "  </thead>\n",
       "  <tbody>\n",
       "    <tr>\n",
       "      <th>Crypto</th>\n",
       "      <td>57687.746</td>\n",
       "    </tr>\n",
       "    <tr>\n",
       "      <th>Stocks/Bonds</th>\n",
       "      <td>71835.650</td>\n",
       "    </tr>\n",
       "  </tbody>\n",
       "</table>\n",
       "</div>"
      ],
      "text/plain": [
       "                 Amount\n",
       "Crypto        57687.746\n",
       "Stocks/Bonds  71835.650"
      ]
     },
     "execution_count": 27,
     "metadata": {},
     "output_type": "execute_result"
    }
   ],
   "source": [
    "# Create a Pandas DataFrame called savings_df \n",
    "savings_df = pd.DataFrame({\"Amount\" : [total_crypto_wallet, total_stocks_bonds]}, index = [savings_data])\n",
    "\n",
    "# Display the savings_df DataFrame\n",
    "savings_df\n"
   ]
  },
  {
   "cell_type": "code",
   "execution_count": 28,
   "metadata": {},
   "outputs": [
    {
     "data": {
      "text/plain": [
       "<AxesSubplot:title={'center':'Total Value of Portfolio'}, ylabel='Amount'>"
      ]
     },
     "execution_count": 28,
     "metadata": {},
     "output_type": "execute_result"
    },
    {
     "data": {
      "image/png": "[encoded data removed]",
      "text/plain": [
       "<Figure size 432x288 with 1 Axes>"
      ]
     },
     "metadata": {},
     "output_type": "display_data"
    }
   ],
   "source": [
    "# Plot the total value of the member's portfolio (crypto and stock/bond) in a pie chart\n",
    "savings_df.plot.pie(y= \"Amount\", title = \"Total Value of Portfolio\")\n",
    "# By using plot.pie we can plot a pie chart"
   ]
  },
  {
   "cell_type": "markdown",
   "metadata": {},
   "source": [
    "#### Step 4: Using Python, determine if the current portfolio has enough to create an emergency fund as part of the member’s financial plan. Ideally, an emergency fund should equal to three times the member’s monthly income. To do this, implement the following steps:\n"
   ]
  },
  {
   "cell_type": "code",
   "execution_count": 29,
   "metadata": {},
   "outputs": [
    {
     "data": {
      "text/plain": [
       "36000"
      ]
     },
     "execution_count": 29,
     "metadata": {},
     "output_type": "execute_result"
    }
   ],
   "source": [
    "# Create a variable named emergency_fund_value\n",
    "emergency_fund_value = monthly_income * 3\n",
    "\n",
    "emergency_fund_value"
   ]
  },
  {
   "cell_type": "code",
   "execution_count": 30,
   "metadata": {},
   "outputs": [
    {
     "name": "stdout",
     "output_type": "stream",
     "text": [
      "Congratulations! You have enough money in the emergency fund.\n"
     ]
    }
   ],
   "source": [
    "# Evaluate the possibility of creating an emergency fund with 3 conditions:\n",
    "if total_portfolio > emergency_fund_value :\n",
    "    print(\"Congratulations! You have enough money in the emergency fund.\")\n",
    "elif total_portfolio == emergency_fund_value :\n",
    "    print(\"Congratulations! You have reached your goal.\")\n",
    "else : print(\"Sorry you are ${emergency_fund_value - total_portfolio} from reaching your goal.\")\n",
    "\n",
    "# if else statements allow us to get a response based on different possible outcomes"
   ]
  },
  {
   "cell_type": "markdown",
   "metadata": {},
   "source": [
    "## Part 2: Create a Financial Planner for Retirement"
   ]
  },
  {
   "cell_type": "markdown",
   "metadata": {},
   "source": [
    "### Create the Monte Carlo Simulation"
   ]
  },
  {
   "cell_type": "markdown",
   "metadata": {},
   "source": [
    "#### Step 1: Make an API call via the Alpaca SDK to get 3 years of historical closing prices for a traditional 60/40 portfolio split: 60% stocks (SPY) and 40% bonds (AGG)."
   ]
  },
  {
   "cell_type": "code",
   "execution_count": 31,
   "metadata": {},
   "outputs": [],
   "source": [
    "# Set start and end dates of 3 years back from your current date\n",
    "# Alternatively, you can use an end date of 2020-08-07 and work 3 years back from that date \n",
    "start_date3 = pd.Timestamp(\"2019-01-31\", tz = \"America/Chicago\").isoformat()\n",
    "end_date3 = pd.Timestamp(\"2022-01-31\", tz = \"America/Chicago\").isoformat()\n"
   ]
  },
  {
   "cell_type": "code",
   "execution_count": 32,
   "metadata": {},
   "outputs": [
    {
     "name": "stdout",
     "output_type": "stream",
     "text": [
      "                              AGG                                       \\\n",
      "                             open      high       low   close   volume   \n",
      "time                                                                     \n",
      "2021-09-09 00:00:00-04:00  115.84  116.1470  115.7550  116.10  3232335   \n",
      "2021-09-10 00:00:00-04:00  115.99  116.0100  115.7801  115.87  2767552   \n",
      "2021-09-13 00:00:00-04:00  116.00  116.0750  115.9600  116.03  3289881   \n",
      "2021-09-14 00:00:00-04:00  116.07  116.3800  116.0700  116.28  4036304   \n",
      "2021-09-15 00:00:00-04:00  116.29  116.2929  116.0900  116.19  3348036   \n",
      "\n",
      "                              SPY                                    \n",
      "                             open    high     low   close    volume  \n",
      "time                                                                 \n",
      "2021-09-09 00:00:00-04:00  450.70  452.57  448.72  448.94  51603442  \n",
      "2021-09-10 00:00:00-04:00  451.04  451.49  445.31  445.50  75763259  \n",
      "2021-09-13 00:00:00-04:00  448.65  448.92  444.11  446.56  75103627  \n",
      "2021-09-14 00:00:00-04:00  448.12  448.34  443.22  444.18  67959711  \n",
      "2021-09-15 00:00:00-04:00  444.62  448.41  443.44  447.87  69265024  \n",
      "                              AGG                                       SPY  \\\n",
      "                             open    high     low   close    volume    open   \n",
      "time                                                                          \n",
      "2022-01-25 00:00:00-05:00  112.18  112.30  111.96  112.00   9392367  433.06   \n",
      "2022-01-26 00:00:00-05:00  112.06  112.13  111.36  111.36  10170465  440.72   \n",
      "2022-01-27 00:00:00-05:00  111.62  111.88  111.62  111.72   5836124  438.26   \n",
      "2022-01-28 00:00:00-05:00  111.46  111.86  111.44  111.81  10400422  432.70   \n",
      "2022-01-31 00:00:00-05:00  111.64  111.89  111.60  111.78  11437834  441.24   \n",
      "\n",
      "                                                               \n",
      "                             high     low    close     volume  \n",
      "time                                                           \n",
      "2022-01-25 00:00:00-05:00  439.72  364.68  434.510  148023735  \n",
      "2022-01-26 00:00:00-05:00  444.04  428.86  433.450  174214548  \n",
      "2022-01-27 00:00:00-05:00  441.58  429.45  431.270  136251597  \n",
      "2022-01-28 00:00:00-05:00  442.00  427.82  441.920  142062305  \n",
      "2022-01-31 00:00:00-05:00  450.28  439.81  449.815  128202383  \n"
     ]
    },
    {
     "name": "stderr",
     "output_type": "stream",
     "text": [
      "C:\\Users\\omar\\anaconda3\\envs\\dev\\lib\\site-packages\\ipykernel_launcher.py:5: DeprecatedWarning: get_barset is deprecated as of v1.0.0. Use get_bars instead\n",
      "  \"\"\"\n"
     ]
    }
   ],
   "source": [
    "# Use the Alpaca get_barset function to make the API call to get the 3 years worth of pricing data\n",
    "# The tickers and timeframe parameters should have been set in Part 1 of this activity \n",
    "# The start and end dates should be updated with the information set above\n",
    "# Remember to add the df property to the end of the call so the response is returned as a DataFrame\n",
    "prices_df = alpaca.get_barset(tickers, timeframe, start = start_date3, end = end_date3).df\n",
    "\n",
    "\n",
    "# Display both the first and last five rows of the DataFrame\n",
    "print(prices_df.head())\n",
    "\n",
    "print(prices_df.tail())"
   ]
  },
  {
   "cell_type": "markdown",
   "metadata": {},
   "source": [
    "#### Step 2: Run a Monte Carlo simulation of 500 samples and 30 years for the 60/40 portfolio, and then plot the results."
   ]
  },
  {
   "cell_type": "code",
   "execution_count": 40,
   "metadata": {},
   "outputs": [
    {
     "data": {
      "text/html": [
       "<div>\n",
       "<style scoped>\n",
       "    .dataframe tbody tr th:only-of-type {\n",
       "        vertical-align: middle;\n",
       "    }\n",
       "\n",
       "    .dataframe tbody tr th {\n",
       "        vertical-align: top;\n",
       "    }\n",
       "\n",
       "    .dataframe thead tr th {\n",
       "        text-align: left;\n",
       "    }\n",
       "\n",
       "    .dataframe thead tr:last-of-type th {\n",
       "        text-align: right;\n",
       "    }\n",
       "</style>\n",
       "<table border=\"1\" class=\"dataframe\">\n",
       "  <thead>\n",
       "    <tr>\n",
       "      <th></th>\n",
       "      <th colspan=\"6\" halign=\"left\">AGG</th>\n",
       "      <th colspan=\"6\" halign=\"left\">SPY</th>\n",
       "    </tr>\n",
       "    <tr>\n",
       "      <th></th>\n",
       "      <th>open</th>\n",
       "      <th>high</th>\n",
       "      <th>low</th>\n",
       "      <th>close</th>\n",
       "      <th>volume</th>\n",
       "      <th>daily_return</th>\n",
       "      <th>open</th>\n",
       "      <th>high</th>\n",
       "      <th>low</th>\n",
       "      <th>close</th>\n",
       "      <th>volume</th>\n",
       "      <th>daily_return</th>\n",
       "    </tr>\n",
       "    <tr>\n",
       "      <th>time</th>\n",
       "      <th></th>\n",
       "      <th></th>\n",
       "      <th></th>\n",
       "      <th></th>\n",
       "      <th></th>\n",
       "      <th></th>\n",
       "      <th></th>\n",
       "      <th></th>\n",
       "      <th></th>\n",
       "      <th></th>\n",
       "      <th></th>\n",
       "      <th></th>\n",
       "    </tr>\n",
       "  </thead>\n",
       "  <tbody>\n",
       "    <tr>\n",
       "      <th>2021-09-09 00:00:00-04:00</th>\n",
       "      <td>115.84</td>\n",
       "      <td>116.1470</td>\n",
       "      <td>115.7550</td>\n",
       "      <td>116.10</td>\n",
       "      <td>3232335</td>\n",
       "      <td>NaN</td>\n",
       "      <td>450.70</td>\n",
       "      <td>452.57</td>\n",
       "      <td>448.72</td>\n",
       "      <td>448.94</td>\n",
       "      <td>51603442</td>\n",
       "      <td>NaN</td>\n",
       "    </tr>\n",
       "    <tr>\n",
       "      <th>2021-09-10 00:00:00-04:00</th>\n",
       "      <td>115.99</td>\n",
       "      <td>116.0100</td>\n",
       "      <td>115.7801</td>\n",
       "      <td>115.87</td>\n",
       "      <td>2767552</td>\n",
       "      <td>-0.001981</td>\n",
       "      <td>451.04</td>\n",
       "      <td>451.49</td>\n",
       "      <td>445.31</td>\n",
       "      <td>445.50</td>\n",
       "      <td>75763259</td>\n",
       "      <td>-0.007662</td>\n",
       "    </tr>\n",
       "    <tr>\n",
       "      <th>2021-09-13 00:00:00-04:00</th>\n",
       "      <td>116.00</td>\n",
       "      <td>116.0750</td>\n",
       "      <td>115.9600</td>\n",
       "      <td>116.03</td>\n",
       "      <td>3289881</td>\n",
       "      <td>0.001381</td>\n",
       "      <td>448.65</td>\n",
       "      <td>448.92</td>\n",
       "      <td>444.11</td>\n",
       "      <td>446.56</td>\n",
       "      <td>75103627</td>\n",
       "      <td>0.002379</td>\n",
       "    </tr>\n",
       "    <tr>\n",
       "      <th>2021-09-14 00:00:00-04:00</th>\n",
       "      <td>116.07</td>\n",
       "      <td>116.3800</td>\n",
       "      <td>116.0700</td>\n",
       "      <td>116.28</td>\n",
       "      <td>4036304</td>\n",
       "      <td>0.002155</td>\n",
       "      <td>448.12</td>\n",
       "      <td>448.34</td>\n",
       "      <td>443.22</td>\n",
       "      <td>444.18</td>\n",
       "      <td>67959711</td>\n",
       "      <td>-0.005330</td>\n",
       "    </tr>\n",
       "    <tr>\n",
       "      <th>2021-09-15 00:00:00-04:00</th>\n",
       "      <td>116.29</td>\n",
       "      <td>116.2929</td>\n",
       "      <td>116.0900</td>\n",
       "      <td>116.19</td>\n",
       "      <td>3348036</td>\n",
       "      <td>-0.000774</td>\n",
       "      <td>444.62</td>\n",
       "      <td>448.41</td>\n",
       "      <td>443.44</td>\n",
       "      <td>447.87</td>\n",
       "      <td>69265024</td>\n",
       "      <td>0.008307</td>\n",
       "    </tr>\n",
       "  </tbody>\n",
       "</table>\n",
       "</div>"
      ],
      "text/plain": [
       "                              AGG                                       \\\n",
       "                             open      high       low   close   volume   \n",
       "time                                                                     \n",
       "2021-09-09 00:00:00-04:00  115.84  116.1470  115.7550  116.10  3232335   \n",
       "2021-09-10 00:00:00-04:00  115.99  116.0100  115.7801  115.87  2767552   \n",
       "2021-09-13 00:00:00-04:00  116.00  116.0750  115.9600  116.03  3289881   \n",
       "2021-09-14 00:00:00-04:00  116.07  116.3800  116.0700  116.28  4036304   \n",
       "2021-09-15 00:00:00-04:00  116.29  116.2929  116.0900  116.19  3348036   \n",
       "\n",
       "                                           SPY                          \\\n",
       "                          daily_return    open    high     low   close   \n",
       "time                                                                     \n",
       "2021-09-09 00:00:00-04:00          NaN  450.70  452.57  448.72  448.94   \n",
       "2021-09-10 00:00:00-04:00    -0.001981  451.04  451.49  445.31  445.50   \n",
       "2021-09-13 00:00:00-04:00     0.001381  448.65  448.92  444.11  446.56   \n",
       "2021-09-14 00:00:00-04:00     0.002155  448.12  448.34  443.22  444.18   \n",
       "2021-09-15 00:00:00-04:00    -0.000774  444.62  448.41  443.44  447.87   \n",
       "\n",
       "                                                  \n",
       "                             volume daily_return  \n",
       "time                                              \n",
       "2021-09-09 00:00:00-04:00  51603442          NaN  \n",
       "2021-09-10 00:00:00-04:00  75763259    -0.007662  \n",
       "2021-09-13 00:00:00-04:00  75103627     0.002379  \n",
       "2021-09-14 00:00:00-04:00  67959711    -0.005330  \n",
       "2021-09-15 00:00:00-04:00  69265024     0.008307  "
      ]
     },
     "execution_count": 40,
     "metadata": {},
     "output_type": "execute_result"
    }
   ],
   "source": [
    "# Configure the Monte Carlo simulation to forecast 30 years cumulative returns\n",
    "# The weights should be split 40% to AGG and 60% to SPY.\n",
    "# Run 500 samples.\n",
    "mc_sim = MCSimulation(portfolio_data = prices_df, weights = [.6,.4], num_simulation = 500, num_trading_days = 252*30)\n",
    "\n",
    "#MCSimulation function will provide us a simulation based on the data we imported + the variables we specified\n",
    "\n",
    "# Review the simulation input data\n",
    "mc_sim.portfolio_data.head()\n"
   ]
  },
  {
   "cell_type": "code",
   "execution_count": 41,
   "metadata": {},
   "outputs": [
    {
     "name": "stdout",
     "output_type": "stream",
     "text": [
      "Running Monte Carlo simulation number 0.\n",
      "Running Monte Carlo simulation number 10.\n",
      "Running Monte Carlo simulation number 20.\n",
      "Running Monte Carlo simulation number 30.\n",
      "Running Monte Carlo simulation number 40.\n",
      "Running Monte Carlo simulation number 50.\n",
      "Running Monte Carlo simulation number 60.\n",
      "Running Monte Carlo simulation number 70.\n",
      "Running Monte Carlo simulation number 80.\n",
      "Running Monte Carlo simulation number 90.\n",
      "Running Monte Carlo simulation number 100.\n"
     ]
    },
    {
     "name": "stderr",
     "output_type": "stream",
     "text": [
      "C:\\Users\\omar\\Desktop\\Fintech-Workspace\\Module5C\\MCForecastTools.py:117: PerformanceWarning: DataFrame is highly fragmented.  This is usually the result of calling `frame.insert` many times, which has poor performance.  Consider joining all columns at once using pd.concat(axis=1) instead.  To get a de-fragmented frame, use `newframe = frame.copy()`\n",
      "  portfolio_cumulative_returns[n] = (1 + sim_df.fillna(0)).cumprod()\n"
     ]
    },
    {
     "name": "stdout",
     "output_type": "stream",
     "text": [
      "Running Monte Carlo simulation number 110.\n",
      "Running Monte Carlo simulation number 120.\n",
      "Running Monte Carlo simulation number 130.\n",
      "Running Monte Carlo simulation number 140.\n",
      "Running Monte Carlo simulation number 150.\n",
      "Running Monte Carlo simulation number 160.\n",
      "Running Monte Carlo simulation number 170.\n",
      "Running Monte Carlo simulation number 180.\n",
      "Running Monte Carlo simulation number 190.\n",
      "Running Monte Carlo simulation number 200.\n",
      "Running Monte Carlo simulation number 210.\n",
      "Running Monte Carlo simulation number 220.\n",
      "Running Monte Carlo simulation number 230.\n",
      "Running Monte Carlo simulation number 240.\n",
      "Running Monte Carlo simulation number 250.\n",
      "Running Monte Carlo simulation number 260.\n",
      "Running Monte Carlo simulation number 270.\n",
      "Running Monte Carlo simulation number 280.\n",
      "Running Monte Carlo simulation number 290.\n",
      "Running Monte Carlo simulation number 300.\n",
      "Running Monte Carlo simulation number 310.\n",
      "Running Monte Carlo simulation number 320.\n",
      "Running Monte Carlo simulation number 330.\n",
      "Running Monte Carlo simulation number 340.\n",
      "Running Monte Carlo simulation number 350.\n",
      "Running Monte Carlo simulation number 360.\n",
      "Running Monte Carlo simulation number 370.\n",
      "Running Monte Carlo simulation number 380.\n",
      "Running Monte Carlo simulation number 390.\n",
      "Running Monte Carlo simulation number 400.\n",
      "Running Monte Carlo simulation number 410.\n",
      "Running Monte Carlo simulation number 420.\n",
      "Running Monte Carlo simulation number 430.\n",
      "Running Monte Carlo simulation number 440.\n",
      "Running Monte Carlo simulation number 450.\n",
      "Running Monte Carlo simulation number 460.\n",
      "Running Monte Carlo simulation number 470.\n",
      "Running Monte Carlo simulation number 480.\n",
      "Running Monte Carlo simulation number 490.\n"
     ]
    },
    {
     "data": {
      "text/html": [
       "<div>\n",
       "<style scoped>\n",
       "    .dataframe tbody tr th:only-of-type {\n",
       "        vertical-align: middle;\n",
       "    }\n",
       "\n",
       "    .dataframe tbody tr th {\n",
       "        vertical-align: top;\n",
       "    }\n",
       "\n",
       "    .dataframe thead th {\n",
       "        text-align: right;\n",
       "    }\n",
       "</style>\n",
       "<table border=\"1\" class=\"dataframe\">\n",
       "  <thead>\n",
       "    <tr style=\"text-align: right;\">\n",
       "      <th></th>\n",
       "      <th>0</th>\n",
       "      <th>1</th>\n",
       "      <th>2</th>\n",
       "      <th>3</th>\n",
       "      <th>4</th>\n",
       "      <th>5</th>\n",
       "      <th>6</th>\n",
       "      <th>7</th>\n",
       "      <th>8</th>\n",
       "      <th>9</th>\n",
       "      <th>...</th>\n",
       "      <th>490</th>\n",
       "      <th>491</th>\n",
       "      <th>492</th>\n",
       "      <th>493</th>\n",
       "      <th>494</th>\n",
       "      <th>495</th>\n",
       "      <th>496</th>\n",
       "      <th>497</th>\n",
       "      <th>498</th>\n",
       "      <th>499</th>\n",
       "    </tr>\n",
       "  </thead>\n",
       "  <tbody>\n",
       "    <tr>\n",
       "      <th>0</th>\n",
       "      <td>1.000000</td>\n",
       "      <td>1.000000</td>\n",
       "      <td>1.000000</td>\n",
       "      <td>1.000000</td>\n",
       "      <td>1.000000</td>\n",
       "      <td>1.000000</td>\n",
       "      <td>1.000000</td>\n",
       "      <td>1.000000</td>\n",
       "      <td>1.000000</td>\n",
       "      <td>1.000000</td>\n",
       "      <td>...</td>\n",
       "      <td>1.000000</td>\n",
       "      <td>1.000000</td>\n",
       "      <td>1.000000</td>\n",
       "      <td>1.000000</td>\n",
       "      <td>1.000000</td>\n",
       "      <td>1.000000</td>\n",
       "      <td>1.000000</td>\n",
       "      <td>1.000000</td>\n",
       "      <td>1.000000</td>\n",
       "      <td>1.000000</td>\n",
       "    </tr>\n",
       "    <tr>\n",
       "      <th>1</th>\n",
       "      <td>1.001884</td>\n",
       "      <td>1.001105</td>\n",
       "      <td>1.001731</td>\n",
       "      <td>1.011446</td>\n",
       "      <td>0.993336</td>\n",
       "      <td>1.000172</td>\n",
       "      <td>1.002742</td>\n",
       "      <td>0.999046</td>\n",
       "      <td>1.000220</td>\n",
       "      <td>1.000449</td>\n",
       "      <td>...</td>\n",
       "      <td>0.998570</td>\n",
       "      <td>0.996547</td>\n",
       "      <td>0.990573</td>\n",
       "      <td>0.996176</td>\n",
       "      <td>1.004699</td>\n",
       "      <td>1.003466</td>\n",
       "      <td>1.001217</td>\n",
       "      <td>0.992495</td>\n",
       "      <td>1.001104</td>\n",
       "      <td>1.001647</td>\n",
       "    </tr>\n",
       "    <tr>\n",
       "      <th>2</th>\n",
       "      <td>0.996601</td>\n",
       "      <td>1.003832</td>\n",
       "      <td>1.006903</td>\n",
       "      <td>1.008432</td>\n",
       "      <td>0.991368</td>\n",
       "      <td>0.999653</td>\n",
       "      <td>0.994366</td>\n",
       "      <td>0.998121</td>\n",
       "      <td>0.992647</td>\n",
       "      <td>1.001762</td>\n",
       "      <td>...</td>\n",
       "      <td>1.001155</td>\n",
       "      <td>0.989808</td>\n",
       "      <td>0.991187</td>\n",
       "      <td>0.988835</td>\n",
       "      <td>1.005230</td>\n",
       "      <td>1.008746</td>\n",
       "      <td>0.996365</td>\n",
       "      <td>0.982114</td>\n",
       "      <td>1.003544</td>\n",
       "      <td>0.987220</td>\n",
       "    </tr>\n",
       "    <tr>\n",
       "      <th>3</th>\n",
       "      <td>1.000922</td>\n",
       "      <td>1.001907</td>\n",
       "      <td>1.002531</td>\n",
       "      <td>0.998386</td>\n",
       "      <td>0.987268</td>\n",
       "      <td>0.997653</td>\n",
       "      <td>0.991853</td>\n",
       "      <td>0.999473</td>\n",
       "      <td>0.992162</td>\n",
       "      <td>1.003920</td>\n",
       "      <td>...</td>\n",
       "      <td>1.002466</td>\n",
       "      <td>0.994714</td>\n",
       "      <td>0.981267</td>\n",
       "      <td>0.992802</td>\n",
       "      <td>1.007819</td>\n",
       "      <td>1.007276</td>\n",
       "      <td>0.994609</td>\n",
       "      <td>0.987947</td>\n",
       "      <td>1.003484</td>\n",
       "      <td>0.989043</td>\n",
       "    </tr>\n",
       "    <tr>\n",
       "      <th>4</th>\n",
       "      <td>0.999496</td>\n",
       "      <td>1.000032</td>\n",
       "      <td>1.006565</td>\n",
       "      <td>1.003078</td>\n",
       "      <td>0.987950</td>\n",
       "      <td>0.996756</td>\n",
       "      <td>0.990042</td>\n",
       "      <td>0.992760</td>\n",
       "      <td>0.996737</td>\n",
       "      <td>1.002844</td>\n",
       "      <td>...</td>\n",
       "      <td>1.003538</td>\n",
       "      <td>0.995345</td>\n",
       "      <td>0.982423</td>\n",
       "      <td>0.992779</td>\n",
       "      <td>1.007680</td>\n",
       "      <td>0.998675</td>\n",
       "      <td>0.994991</td>\n",
       "      <td>0.982566</td>\n",
       "      <td>1.003679</td>\n",
       "      <td>0.985128</td>\n",
       "    </tr>\n",
       "    <tr>\n",
       "      <th>...</th>\n",
       "      <td>...</td>\n",
       "      <td>...</td>\n",
       "      <td>...</td>\n",
       "      <td>...</td>\n",
       "      <td>...</td>\n",
       "      <td>...</td>\n",
       "      <td>...</td>\n",
       "      <td>...</td>\n",
       "      <td>...</td>\n",
       "      <td>...</td>\n",
       "      <td>...</td>\n",
       "      <td>...</td>\n",
       "      <td>...</td>\n",
       "      <td>...</td>\n",
       "      <td>...</td>\n",
       "      <td>...</td>\n",
       "      <td>...</td>\n",
       "      <td>...</td>\n",
       "      <td>...</td>\n",
       "      <td>...</td>\n",
       "      <td>...</td>\n",
       "    </tr>\n",
       "    <tr>\n",
       "      <th>7556</th>\n",
       "      <td>0.129357</td>\n",
       "      <td>0.215626</td>\n",
       "      <td>0.111300</td>\n",
       "      <td>0.158679</td>\n",
       "      <td>0.184283</td>\n",
       "      <td>0.270071</td>\n",
       "      <td>0.180986</td>\n",
       "      <td>0.287587</td>\n",
       "      <td>0.170711</td>\n",
       "      <td>0.281773</td>\n",
       "      <td>...</td>\n",
       "      <td>0.239685</td>\n",
       "      <td>0.161997</td>\n",
       "      <td>0.233606</td>\n",
       "      <td>0.228087</td>\n",
       "      <td>0.351267</td>\n",
       "      <td>0.114299</td>\n",
       "      <td>0.138203</td>\n",
       "      <td>0.158322</td>\n",
       "      <td>0.181663</td>\n",
       "      <td>0.182326</td>\n",
       "    </tr>\n",
       "    <tr>\n",
       "      <th>7557</th>\n",
       "      <td>0.128475</td>\n",
       "      <td>0.215933</td>\n",
       "      <td>0.111170</td>\n",
       "      <td>0.158722</td>\n",
       "      <td>0.183083</td>\n",
       "      <td>0.270562</td>\n",
       "      <td>0.181407</td>\n",
       "      <td>0.289016</td>\n",
       "      <td>0.169435</td>\n",
       "      <td>0.283196</td>\n",
       "      <td>...</td>\n",
       "      <td>0.238385</td>\n",
       "      <td>0.160885</td>\n",
       "      <td>0.232193</td>\n",
       "      <td>0.228615</td>\n",
       "      <td>0.353053</td>\n",
       "      <td>0.113249</td>\n",
       "      <td>0.137830</td>\n",
       "      <td>0.157530</td>\n",
       "      <td>0.181433</td>\n",
       "      <td>0.183484</td>\n",
       "    </tr>\n",
       "    <tr>\n",
       "      <th>7558</th>\n",
       "      <td>0.128923</td>\n",
       "      <td>0.217192</td>\n",
       "      <td>0.111549</td>\n",
       "      <td>0.157722</td>\n",
       "      <td>0.182948</td>\n",
       "      <td>0.273240</td>\n",
       "      <td>0.180416</td>\n",
       "      <td>0.288363</td>\n",
       "      <td>0.168100</td>\n",
       "      <td>0.282901</td>\n",
       "      <td>...</td>\n",
       "      <td>0.238160</td>\n",
       "      <td>0.158430</td>\n",
       "      <td>0.229923</td>\n",
       "      <td>0.229623</td>\n",
       "      <td>0.352089</td>\n",
       "      <td>0.112418</td>\n",
       "      <td>0.137545</td>\n",
       "      <td>0.157156</td>\n",
       "      <td>0.180655</td>\n",
       "      <td>0.183266</td>\n",
       "    </tr>\n",
       "    <tr>\n",
       "      <th>7559</th>\n",
       "      <td>0.129266</td>\n",
       "      <td>0.216931</td>\n",
       "      <td>0.111189</td>\n",
       "      <td>0.156481</td>\n",
       "      <td>0.183490</td>\n",
       "      <td>0.271464</td>\n",
       "      <td>0.180082</td>\n",
       "      <td>0.286791</td>\n",
       "      <td>0.167259</td>\n",
       "      <td>0.282190</td>\n",
       "      <td>...</td>\n",
       "      <td>0.238041</td>\n",
       "      <td>0.157669</td>\n",
       "      <td>0.227607</td>\n",
       "      <td>0.227479</td>\n",
       "      <td>0.351842</td>\n",
       "      <td>0.111173</td>\n",
       "      <td>0.138205</td>\n",
       "      <td>0.157246</td>\n",
       "      <td>0.181396</td>\n",
       "      <td>0.182083</td>\n",
       "    </tr>\n",
       "    <tr>\n",
       "      <th>7560</th>\n",
       "      <td>0.129043</td>\n",
       "      <td>0.217166</td>\n",
       "      <td>0.111369</td>\n",
       "      <td>0.155729</td>\n",
       "      <td>0.182073</td>\n",
       "      <td>0.270827</td>\n",
       "      <td>0.180741</td>\n",
       "      <td>0.288039</td>\n",
       "      <td>0.166805</td>\n",
       "      <td>0.282658</td>\n",
       "      <td>...</td>\n",
       "      <td>0.238738</td>\n",
       "      <td>0.157658</td>\n",
       "      <td>0.227085</td>\n",
       "      <td>0.226141</td>\n",
       "      <td>0.353631</td>\n",
       "      <td>0.111557</td>\n",
       "      <td>0.138216</td>\n",
       "      <td>0.156502</td>\n",
       "      <td>0.182107</td>\n",
       "      <td>0.182683</td>\n",
       "    </tr>\n",
       "  </tbody>\n",
       "</table>\n",
       "<p>7561 rows × 500 columns</p>\n",
       "</div>"
      ],
      "text/plain": [
       "           0         1         2         3         4         5         6    \\\n",
       "0     1.000000  1.000000  1.000000  1.000000  1.000000  1.000000  1.000000   \n",
       "1     1.001884  1.001105  1.001731  1.011446  0.993336  1.000172  1.002742   \n",
       "2     0.996601  1.003832  1.006903  1.008432  0.991368  0.999653  0.994366   \n",
       "3     1.000922  1.001907  1.002531  0.998386  0.987268  0.997653  0.991853   \n",
       "4     0.999496  1.000032  1.006565  1.003078  0.987950  0.996756  0.990042   \n",
       "...        ...       ...       ...       ...       ...       ...       ...   \n",
       "7556  0.129357  0.215626  0.111300  0.158679  0.184283  0.270071  0.180986   \n",
       "7557  0.128475  0.215933  0.111170  0.158722  0.183083  0.270562  0.181407   \n",
       "7558  0.128923  0.217192  0.111549  0.157722  0.182948  0.273240  0.180416   \n",
       "7559  0.129266  0.216931  0.111189  0.156481  0.183490  0.271464  0.180082   \n",
       "7560  0.129043  0.217166  0.111369  0.155729  0.182073  0.270827  0.180741   \n",
       "\n",
       "           7         8         9    ...       490       491       492  \\\n",
       "0     1.000000  1.000000  1.000000  ...  1.000000  1.000000  1.000000   \n",
       "1     0.999046  1.000220  1.000449  ...  0.998570  0.996547  0.990573   \n",
       "2     0.998121  0.992647  1.001762  ...  1.001155  0.989808  0.991187   \n",
       "3     0.999473  0.992162  1.003920  ...  1.002466  0.994714  0.981267   \n",
       "4     0.992760  0.996737  1.002844  ...  1.003538  0.995345  0.982423   \n",
       "...        ...       ...       ...  ...       ...       ...       ...   \n",
       "7556  0.287587  0.170711  0.281773  ...  0.239685  0.161997  0.233606   \n",
       "7557  0.289016  0.169435  0.283196  ...  0.238385  0.160885  0.232193   \n",
       "7558  0.288363  0.168100  0.282901  ...  0.238160  0.158430  0.229923   \n",
       "7559  0.286791  0.167259  0.282190  ...  0.238041  0.157669  0.227607   \n",
       "7560  0.288039  0.166805  0.282658  ...  0.238738  0.157658  0.227085   \n",
       "\n",
       "           493       494       495       496       497       498       499  \n",
       "0     1.000000  1.000000  1.000000  1.000000  1.000000  1.000000  1.000000  \n",
       "1     0.996176  1.004699  1.003466  1.001217  0.992495  1.001104  1.001647  \n",
       "2     0.988835  1.005230  1.008746  0.996365  0.982114  1.003544  0.987220  \n",
       "3     0.992802  1.007819  1.007276  0.994609  0.987947  1.003484  0.989043  \n",
       "4     0.992779  1.007680  0.998675  0.994991  0.982566  1.003679  0.985128  \n",
       "...        ...       ...       ...       ...       ...       ...       ...  \n",
       "7556  0.228087  0.351267  0.114299  0.138203  0.158322  0.181663  0.182326  \n",
       "7557  0.228615  0.353053  0.113249  0.137830  0.157530  0.181433  0.183484  \n",
       "7558  0.229623  0.352089  0.112418  0.137545  0.157156  0.180655  0.183266  \n",
       "7559  0.227479  0.351842  0.111173  0.138205  0.157246  0.181396  0.182083  \n",
       "7560  0.226141  0.353631  0.111557  0.138216  0.156502  0.182107  0.182683  \n",
       "\n",
       "[7561 rows x 500 columns]"
      ]
     },
     "execution_count": 41,
     "metadata": {},
     "output_type": "execute_result"
    }
   ],
   "source": [
    "# Run the Monte Carlo simulation to forecast 30 years cumulative returns\n",
    "mc_sim.calc_cumulative_return()\n",
    "# calc_cumulative_return function allows us to calculate the cumulative returns of our simulations"
   ]
  },
  {
   "cell_type": "code",
   "execution_count": 42,
   "metadata": {},
   "outputs": [
    {
     "data": {
      "image/png": "[encoded data removed]",
      "text/plain": [
       "<Figure size 432x288 with 1 Axes>"
      ]
     },
     "metadata": {
      "needs_background": "light"
     },
     "output_type": "display_data"
    }
   ],
   "source": [
    "# Visualize the 30-year Monte Carlo simulation by creating an\n",
    "# overlay line plot\n",
    "mc_sim_lineplot = mc_sim.plot_simulation()\n",
    "# The plot_simulation function will plot all our simulations in a overlay line plot"
   ]
  },
  {
   "cell_type": "markdown",
   "metadata": {},
   "source": [
    "#### Step 3: Plot the probability distribution of the Monte Carlo simulation."
   ]
  },
  {
   "cell_type": "code",
   "execution_count": 43,
   "metadata": {},
   "outputs": [
    {
     "data": {
      "image/png": "[encoded data removed]",
      "text/plain": [
       "<Figure size 432x288 with 1 Axes>"
      ]
     },
     "metadata": {
      "needs_background": "light"
     },
     "output_type": "display_data"
    }
   ],
   "source": [
    "# Visualize the probability distribution of the 30-year Monte Carlo simulation \n",
    "# by plotting a histogram\n",
    "mc_sim_distribution = mc_sim.plot_distribution()\n",
    "# The plot_distribution function will allow us to plot the probability distribution of our function"
   ]
  },
  {
   "cell_type": "markdown",
   "metadata": {},
   "source": [
    "#### Step 4: Generate the summary statistics for the Monte Carlo simulation."
   ]
  },
  {
   "cell_type": "code",
   "execution_count": 44,
   "metadata": {},
   "outputs": [
    {
     "name": "stdout",
     "output_type": "stream",
     "text": [
      "count           500.000000\n",
      "mean              0.211320\n",
      "std               0.084032\n",
      "min               0.065953\n",
      "25%               0.152649\n",
      "50%               0.197822\n",
      "75%               0.253761\n",
      "max               0.691985\n",
      "95% CI Lower      0.095499\n",
      "95% CI Upper      0.397432\n",
      "Name: 7560, dtype: float64\n"
     ]
    }
   ],
   "source": [
    "# Generate summary statistics from the 30-year Monte Carlo simulation results\n",
    "# Save the results as a variable\n",
    "mc_sim_stats = mc_sim.summarize_cumulative_return()\n",
    "\n",
    "# The summarize_cumulative_return function will give us the summary stats from our simulation results\n",
    "\n",
    "# Review the 30-year Monte Carlo summary statistics\n",
    "print(mc_sim_stats)"
   ]
  },
  {
   "cell_type": "markdown",
   "metadata": {},
   "source": [
    "### Analyze the Retirement Portfolio Forecasts\n",
    "\n",
    "Using the current value of only the stock and bond portion of the member's portfolio and the summary statistics that you generated from the Monte Carlo simulation, answer the following question in your Jupyter notebook:\n",
    "\n",
    "-  What are the lower and upper bounds for the expected value of the portfolio with a 95% confidence interval?\n"
   ]
  },
  {
   "cell_type": "code",
   "execution_count": 45,
   "metadata": {},
   "outputs": [
    {
     "name": "stdout",
     "output_type": "stream",
     "text": [
      "The current balance of the stock and bond portion of the portfolio is $71835.65\n"
     ]
    }
   ],
   "source": [
    "# Print the current balance of the stock and bond portion of the members portfolio\n",
    "print(f\"The current balance of the stock and bond portion of the portfolio is ${total_stocks_bonds}\")\n"
   ]
  },
  {
   "cell_type": "code",
   "execution_count": 47,
   "metadata": {},
   "outputs": [
    {
     "name": "stdout",
     "output_type": "stream",
     "text": [
      "The lower 95% confidence interval is $ 6860.22\n",
      "The upper 95% confidence interval is $ 28549.82\n"
     ]
    }
   ],
   "source": [
    "# Use the lower and upper `95%` confidence intervals to calculate the range of the possible outcomes for the current stock/bond portfolio\n",
    "ci_lower_thirty_cumulative_return = mc_sim_stats[8] * total_stocks_bonds\n",
    "ci_upper_thirty_cumulative_return = mc_sim_stats[9] * total_stocks_bonds\n",
    "\n",
    "# Print the result of your calculations\n",
    "print(f\"The lower 95% confidence interval is ${ci_lower_thirty_cumulative_return: .2f}\")\n",
    "print(f\"The upper 95% confidence interval is ${ci_upper_thirty_cumulative_return: .2f}\")\n"
   ]
  },
  {
   "cell_type": "markdown",
   "metadata": {},
   "source": [
    "### Forecast Cumulative Returns in 10 Years"
   ]
  },
  {
   "cell_type": "code",
   "execution_count": 48,
   "metadata": {},
   "outputs": [
    {
     "data": {
      "text/html": [
       "<div>\n",
       "<style scoped>\n",
       "    .dataframe tbody tr th:only-of-type {\n",
       "        vertical-align: middle;\n",
       "    }\n",
       "\n",
       "    .dataframe tbody tr th {\n",
       "        vertical-align: top;\n",
       "    }\n",
       "\n",
       "    .dataframe thead tr th {\n",
       "        text-align: left;\n",
       "    }\n",
       "\n",
       "    .dataframe thead tr:last-of-type th {\n",
       "        text-align: right;\n",
       "    }\n",
       "</style>\n",
       "<table border=\"1\" class=\"dataframe\">\n",
       "  <thead>\n",
       "    <tr>\n",
       "      <th></th>\n",
       "      <th colspan=\"6\" halign=\"left\">AGG</th>\n",
       "      <th colspan=\"6\" halign=\"left\">SPY</th>\n",
       "    </tr>\n",
       "    <tr>\n",
       "      <th></th>\n",
       "      <th>open</th>\n",
       "      <th>high</th>\n",
       "      <th>low</th>\n",
       "      <th>close</th>\n",
       "      <th>volume</th>\n",
       "      <th>daily_return</th>\n",
       "      <th>open</th>\n",
       "      <th>high</th>\n",
       "      <th>low</th>\n",
       "      <th>close</th>\n",
       "      <th>volume</th>\n",
       "      <th>daily_return</th>\n",
       "    </tr>\n",
       "    <tr>\n",
       "      <th>time</th>\n",
       "      <th></th>\n",
       "      <th></th>\n",
       "      <th></th>\n",
       "      <th></th>\n",
       "      <th></th>\n",
       "      <th></th>\n",
       "      <th></th>\n",
       "      <th></th>\n",
       "      <th></th>\n",
       "      <th></th>\n",
       "      <th></th>\n",
       "      <th></th>\n",
       "    </tr>\n",
       "  </thead>\n",
       "  <tbody>\n",
       "    <tr>\n",
       "      <th>2021-09-09 00:00:00-04:00</th>\n",
       "      <td>115.84</td>\n",
       "      <td>116.1470</td>\n",
       "      <td>115.7550</td>\n",
       "      <td>116.10</td>\n",
       "      <td>3232335</td>\n",
       "      <td>NaN</td>\n",
       "      <td>450.70</td>\n",
       "      <td>452.57</td>\n",
       "      <td>448.72</td>\n",
       "      <td>448.94</td>\n",
       "      <td>51603442</td>\n",
       "      <td>NaN</td>\n",
       "    </tr>\n",
       "    <tr>\n",
       "      <th>2021-09-10 00:00:00-04:00</th>\n",
       "      <td>115.99</td>\n",
       "      <td>116.0100</td>\n",
       "      <td>115.7801</td>\n",
       "      <td>115.87</td>\n",
       "      <td>2767552</td>\n",
       "      <td>-0.001981</td>\n",
       "      <td>451.04</td>\n",
       "      <td>451.49</td>\n",
       "      <td>445.31</td>\n",
       "      <td>445.50</td>\n",
       "      <td>75763259</td>\n",
       "      <td>-0.007662</td>\n",
       "    </tr>\n",
       "    <tr>\n",
       "      <th>2021-09-13 00:00:00-04:00</th>\n",
       "      <td>116.00</td>\n",
       "      <td>116.0750</td>\n",
       "      <td>115.9600</td>\n",
       "      <td>116.03</td>\n",
       "      <td>3289881</td>\n",
       "      <td>0.001381</td>\n",
       "      <td>448.65</td>\n",
       "      <td>448.92</td>\n",
       "      <td>444.11</td>\n",
       "      <td>446.56</td>\n",
       "      <td>75103627</td>\n",
       "      <td>0.002379</td>\n",
       "    </tr>\n",
       "    <tr>\n",
       "      <th>2021-09-14 00:00:00-04:00</th>\n",
       "      <td>116.07</td>\n",
       "      <td>116.3800</td>\n",
       "      <td>116.0700</td>\n",
       "      <td>116.28</td>\n",
       "      <td>4036304</td>\n",
       "      <td>0.002155</td>\n",
       "      <td>448.12</td>\n",
       "      <td>448.34</td>\n",
       "      <td>443.22</td>\n",
       "      <td>444.18</td>\n",
       "      <td>67959711</td>\n",
       "      <td>-0.005330</td>\n",
       "    </tr>\n",
       "    <tr>\n",
       "      <th>2021-09-15 00:00:00-04:00</th>\n",
       "      <td>116.29</td>\n",
       "      <td>116.2929</td>\n",
       "      <td>116.0900</td>\n",
       "      <td>116.19</td>\n",
       "      <td>3348036</td>\n",
       "      <td>-0.000774</td>\n",
       "      <td>444.62</td>\n",
       "      <td>448.41</td>\n",
       "      <td>443.44</td>\n",
       "      <td>447.87</td>\n",
       "      <td>69265024</td>\n",
       "      <td>0.008307</td>\n",
       "    </tr>\n",
       "  </tbody>\n",
       "</table>\n",
       "</div>"
      ],
      "text/plain": [
       "                              AGG                                       \\\n",
       "                             open      high       low   close   volume   \n",
       "time                                                                     \n",
       "2021-09-09 00:00:00-04:00  115.84  116.1470  115.7550  116.10  3232335   \n",
       "2021-09-10 00:00:00-04:00  115.99  116.0100  115.7801  115.87  2767552   \n",
       "2021-09-13 00:00:00-04:00  116.00  116.0750  115.9600  116.03  3289881   \n",
       "2021-09-14 00:00:00-04:00  116.07  116.3800  116.0700  116.28  4036304   \n",
       "2021-09-15 00:00:00-04:00  116.29  116.2929  116.0900  116.19  3348036   \n",
       "\n",
       "                                           SPY                          \\\n",
       "                          daily_return    open    high     low   close   \n",
       "time                                                                     \n",
       "2021-09-09 00:00:00-04:00          NaN  450.70  452.57  448.72  448.94   \n",
       "2021-09-10 00:00:00-04:00    -0.001981  451.04  451.49  445.31  445.50   \n",
       "2021-09-13 00:00:00-04:00     0.001381  448.65  448.92  444.11  446.56   \n",
       "2021-09-14 00:00:00-04:00     0.002155  448.12  448.34  443.22  444.18   \n",
       "2021-09-15 00:00:00-04:00    -0.000774  444.62  448.41  443.44  447.87   \n",
       "\n",
       "                                                  \n",
       "                             volume daily_return  \n",
       "time                                              \n",
       "2021-09-09 00:00:00-04:00  51603442          NaN  \n",
       "2021-09-10 00:00:00-04:00  75763259    -0.007662  \n",
       "2021-09-13 00:00:00-04:00  75103627     0.002379  \n",
       "2021-09-14 00:00:00-04:00  67959711    -0.005330  \n",
       "2021-09-15 00:00:00-04:00  69265024     0.008307  "
      ]
     },
     "execution_count": 48,
     "metadata": {},
     "output_type": "execute_result"
    }
   ],
   "source": [
    "# Configure a Monte Carlo simulation to forecast 10 years cumulative returns\n",
    "# The weights should be split 20% to AGG and 80% to SPY.\n",
    "# Run 500 samples.\n",
    "mc_sim2 = MCSimulation(portfolio_data = prices_df, weights = [.80,.20], num_simulation = 500, num_trading_days = 252*10)\n",
    "\n",
    "# Review the simulation input data\n",
    "mc_sim2.portfolio_data.head()\n"
   ]
  },
  {
   "cell_type": "code",
   "execution_count": 49,
   "metadata": {},
   "outputs": [
    {
     "name": "stdout",
     "output_type": "stream",
     "text": [
      "Running Monte Carlo simulation number 0.\n",
      "Running Monte Carlo simulation number 10.\n",
      "Running Monte Carlo simulation number 20.\n",
      "Running Monte Carlo simulation number 30.\n",
      "Running Monte Carlo simulation number 40.\n",
      "Running Monte Carlo simulation number 50.\n",
      "Running Monte Carlo simulation number 60.\n",
      "Running Monte Carlo simulation number 70.\n",
      "Running Monte Carlo simulation number 80.\n",
      "Running Monte Carlo simulation number 90.\n",
      "Running Monte Carlo simulation number 100.\n"
     ]
    },
    {
     "name": "stderr",
     "output_type": "stream",
     "text": [
      "C:\\Users\\omar\\Desktop\\Fintech-Workspace\\Module5C\\MCForecastTools.py:117: PerformanceWarning: DataFrame is highly fragmented.  This is usually the result of calling `frame.insert` many times, which has poor performance.  Consider joining all columns at once using pd.concat(axis=1) instead.  To get a de-fragmented frame, use `newframe = frame.copy()`\n",
      "  portfolio_cumulative_returns[n] = (1 + sim_df.fillna(0)).cumprod()\n"
     ]
    },
    {
     "name": "stdout",
     "output_type": "stream",
     "text": [
      "Running Monte Carlo simulation number 110.\n",
      "Running Monte Carlo simulation number 120.\n",
      "Running Monte Carlo simulation number 130.\n",
      "Running Monte Carlo simulation number 140.\n",
      "Running Monte Carlo simulation number 150.\n",
      "Running Monte Carlo simulation number 160.\n",
      "Running Monte Carlo simulation number 170.\n",
      "Running Monte Carlo simulation number 180.\n",
      "Running Monte Carlo simulation number 190.\n",
      "Running Monte Carlo simulation number 200.\n",
      "Running Monte Carlo simulation number 210.\n",
      "Running Monte Carlo simulation number 220.\n",
      "Running Monte Carlo simulation number 230.\n",
      "Running Monte Carlo simulation number 240.\n",
      "Running Monte Carlo simulation number 250.\n",
      "Running Monte Carlo simulation number 260.\n",
      "Running Monte Carlo simulation number 270.\n",
      "Running Monte Carlo simulation number 280.\n",
      "Running Monte Carlo simulation number 290.\n",
      "Running Monte Carlo simulation number 300.\n",
      "Running Monte Carlo simulation number 310.\n",
      "Running Monte Carlo simulation number 320.\n",
      "Running Monte Carlo simulation number 330.\n",
      "Running Monte Carlo simulation number 340.\n",
      "Running Monte Carlo simulation number 350.\n",
      "Running Monte Carlo simulation number 360.\n",
      "Running Monte Carlo simulation number 370.\n",
      "Running Monte Carlo simulation number 380.\n",
      "Running Monte Carlo simulation number 390.\n",
      "Running Monte Carlo simulation number 400.\n",
      "Running Monte Carlo simulation number 410.\n",
      "Running Monte Carlo simulation number 420.\n",
      "Running Monte Carlo simulation number 430.\n",
      "Running Monte Carlo simulation number 440.\n",
      "Running Monte Carlo simulation number 450.\n",
      "Running Monte Carlo simulation number 460.\n",
      "Running Monte Carlo simulation number 470.\n",
      "Running Monte Carlo simulation number 480.\n",
      "Running Monte Carlo simulation number 490.\n"
     ]
    },
    {
     "data": {
      "text/html": [
       "<div>\n",
       "<style scoped>\n",
       "    .dataframe tbody tr th:only-of-type {\n",
       "        vertical-align: middle;\n",
       "    }\n",
       "\n",
       "    .dataframe tbody tr th {\n",
       "        vertical-align: top;\n",
       "    }\n",
       "\n",
       "    .dataframe thead th {\n",
       "        text-align: right;\n",
       "    }\n",
       "</style>\n",
       "<table border=\"1\" class=\"dataframe\">\n",
       "  <thead>\n",
       "    <tr style=\"text-align: right;\">\n",
       "      <th></th>\n",
       "      <th>0</th>\n",
       "      <th>1</th>\n",
       "      <th>2</th>\n",
       "      <th>3</th>\n",
       "      <th>4</th>\n",
       "      <th>5</th>\n",
       "      <th>6</th>\n",
       "      <th>7</th>\n",
       "      <th>8</th>\n",
       "      <th>9</th>\n",
       "      <th>...</th>\n",
       "      <th>490</th>\n",
       "      <th>491</th>\n",
       "      <th>492</th>\n",
       "      <th>493</th>\n",
       "      <th>494</th>\n",
       "      <th>495</th>\n",
       "      <th>496</th>\n",
       "      <th>497</th>\n",
       "      <th>498</th>\n",
       "      <th>499</th>\n",
       "    </tr>\n",
       "  </thead>\n",
       "  <tbody>\n",
       "    <tr>\n",
       "      <th>0</th>\n",
       "      <td>1.000000</td>\n",
       "      <td>1.000000</td>\n",
       "      <td>1.000000</td>\n",
       "      <td>1.000000</td>\n",
       "      <td>1.000000</td>\n",
       "      <td>1.000000</td>\n",
       "      <td>1.000000</td>\n",
       "      <td>1.000000</td>\n",
       "      <td>1.000000</td>\n",
       "      <td>1.000000</td>\n",
       "      <td>...</td>\n",
       "      <td>1.000000</td>\n",
       "      <td>1.000000</td>\n",
       "      <td>1.000000</td>\n",
       "      <td>1.000000</td>\n",
       "      <td>1.000000</td>\n",
       "      <td>1.000000</td>\n",
       "      <td>1.000000</td>\n",
       "      <td>1.000000</td>\n",
       "      <td>1.000000</td>\n",
       "      <td>1.000000</td>\n",
       "    </tr>\n",
       "    <tr>\n",
       "      <th>1</th>\n",
       "      <td>0.998007</td>\n",
       "      <td>0.998001</td>\n",
       "      <td>0.996761</td>\n",
       "      <td>0.998183</td>\n",
       "      <td>0.997612</td>\n",
       "      <td>0.994616</td>\n",
       "      <td>1.002461</td>\n",
       "      <td>1.002811</td>\n",
       "      <td>0.998950</td>\n",
       "      <td>1.001987</td>\n",
       "      <td>...</td>\n",
       "      <td>1.002655</td>\n",
       "      <td>0.998683</td>\n",
       "      <td>1.001217</td>\n",
       "      <td>0.997383</td>\n",
       "      <td>0.999782</td>\n",
       "      <td>1.000636</td>\n",
       "      <td>1.001247</td>\n",
       "      <td>0.997404</td>\n",
       "      <td>1.001014</td>\n",
       "      <td>0.997708</td>\n",
       "    </tr>\n",
       "    <tr>\n",
       "      <th>2</th>\n",
       "      <td>0.997576</td>\n",
       "      <td>0.996776</td>\n",
       "      <td>0.998342</td>\n",
       "      <td>0.992986</td>\n",
       "      <td>0.999383</td>\n",
       "      <td>0.994054</td>\n",
       "      <td>1.000901</td>\n",
       "      <td>1.003231</td>\n",
       "      <td>0.997548</td>\n",
       "      <td>0.999166</td>\n",
       "      <td>...</td>\n",
       "      <td>1.002842</td>\n",
       "      <td>0.999048</td>\n",
       "      <td>1.000925</td>\n",
       "      <td>0.998544</td>\n",
       "      <td>0.998529</td>\n",
       "      <td>1.002884</td>\n",
       "      <td>0.994984</td>\n",
       "      <td>0.994490</td>\n",
       "      <td>1.000339</td>\n",
       "      <td>0.994421</td>\n",
       "    </tr>\n",
       "    <tr>\n",
       "      <th>3</th>\n",
       "      <td>0.998982</td>\n",
       "      <td>0.995109</td>\n",
       "      <td>1.000991</td>\n",
       "      <td>0.989427</td>\n",
       "      <td>1.003115</td>\n",
       "      <td>0.992211</td>\n",
       "      <td>0.996412</td>\n",
       "      <td>1.002893</td>\n",
       "      <td>1.003881</td>\n",
       "      <td>0.998284</td>\n",
       "      <td>...</td>\n",
       "      <td>0.999701</td>\n",
       "      <td>0.998021</td>\n",
       "      <td>1.001834</td>\n",
       "      <td>1.000160</td>\n",
       "      <td>1.002097</td>\n",
       "      <td>1.000585</td>\n",
       "      <td>0.992713</td>\n",
       "      <td>0.989169</td>\n",
       "      <td>0.998380</td>\n",
       "      <td>0.995831</td>\n",
       "    </tr>\n",
       "    <tr>\n",
       "      <th>4</th>\n",
       "      <td>1.000743</td>\n",
       "      <td>0.995831</td>\n",
       "      <td>1.000451</td>\n",
       "      <td>0.987260</td>\n",
       "      <td>1.008129</td>\n",
       "      <td>0.988175</td>\n",
       "      <td>0.994554</td>\n",
       "      <td>0.996513</td>\n",
       "      <td>1.000823</td>\n",
       "      <td>0.995454</td>\n",
       "      <td>...</td>\n",
       "      <td>1.001879</td>\n",
       "      <td>0.994429</td>\n",
       "      <td>0.997843</td>\n",
       "      <td>0.997793</td>\n",
       "      <td>1.001113</td>\n",
       "      <td>1.002667</td>\n",
       "      <td>0.989469</td>\n",
       "      <td>0.986060</td>\n",
       "      <td>0.996415</td>\n",
       "      <td>0.997838</td>\n",
       "    </tr>\n",
       "    <tr>\n",
       "      <th>...</th>\n",
       "      <td>...</td>\n",
       "      <td>...</td>\n",
       "      <td>...</td>\n",
       "      <td>...</td>\n",
       "      <td>...</td>\n",
       "      <td>...</td>\n",
       "      <td>...</td>\n",
       "      <td>...</td>\n",
       "      <td>...</td>\n",
       "      <td>...</td>\n",
       "      <td>...</td>\n",
       "      <td>...</td>\n",
       "      <td>...</td>\n",
       "      <td>...</td>\n",
       "      <td>...</td>\n",
       "      <td>...</td>\n",
       "      <td>...</td>\n",
       "      <td>...</td>\n",
       "      <td>...</td>\n",
       "      <td>...</td>\n",
       "      <td>...</td>\n",
       "    </tr>\n",
       "    <tr>\n",
       "      <th>2516</th>\n",
       "      <td>0.646531</td>\n",
       "      <td>0.446625</td>\n",
       "      <td>0.475831</td>\n",
       "      <td>0.480319</td>\n",
       "      <td>0.389355</td>\n",
       "      <td>0.393223</td>\n",
       "      <td>0.568505</td>\n",
       "      <td>0.479652</td>\n",
       "      <td>0.534137</td>\n",
       "      <td>0.420652</td>\n",
       "      <td>...</td>\n",
       "      <td>0.688549</td>\n",
       "      <td>0.527921</td>\n",
       "      <td>0.348885</td>\n",
       "      <td>0.522435</td>\n",
       "      <td>0.415280</td>\n",
       "      <td>0.616986</td>\n",
       "      <td>0.475066</td>\n",
       "      <td>0.465335</td>\n",
       "      <td>0.477418</td>\n",
       "      <td>0.457224</td>\n",
       "    </tr>\n",
       "    <tr>\n",
       "      <th>2517</th>\n",
       "      <td>0.644886</td>\n",
       "      <td>0.446350</td>\n",
       "      <td>0.472820</td>\n",
       "      <td>0.480337</td>\n",
       "      <td>0.388434</td>\n",
       "      <td>0.391182</td>\n",
       "      <td>0.567268</td>\n",
       "      <td>0.479387</td>\n",
       "      <td>0.534487</td>\n",
       "      <td>0.421750</td>\n",
       "      <td>...</td>\n",
       "      <td>0.687568</td>\n",
       "      <td>0.530353</td>\n",
       "      <td>0.348626</td>\n",
       "      <td>0.522042</td>\n",
       "      <td>0.414788</td>\n",
       "      <td>0.616907</td>\n",
       "      <td>0.477048</td>\n",
       "      <td>0.465883</td>\n",
       "      <td>0.477895</td>\n",
       "      <td>0.458305</td>\n",
       "    </tr>\n",
       "    <tr>\n",
       "      <th>2518</th>\n",
       "      <td>0.642759</td>\n",
       "      <td>0.447359</td>\n",
       "      <td>0.472839</td>\n",
       "      <td>0.481353</td>\n",
       "      <td>0.390575</td>\n",
       "      <td>0.390764</td>\n",
       "      <td>0.567293</td>\n",
       "      <td>0.478833</td>\n",
       "      <td>0.534294</td>\n",
       "      <td>0.422947</td>\n",
       "      <td>...</td>\n",
       "      <td>0.685554</td>\n",
       "      <td>0.528621</td>\n",
       "      <td>0.347512</td>\n",
       "      <td>0.523672</td>\n",
       "      <td>0.414943</td>\n",
       "      <td>0.614994</td>\n",
       "      <td>0.477915</td>\n",
       "      <td>0.467971</td>\n",
       "      <td>0.474777</td>\n",
       "      <td>0.458271</td>\n",
       "    </tr>\n",
       "    <tr>\n",
       "      <th>2519</th>\n",
       "      <td>0.642018</td>\n",
       "      <td>0.448552</td>\n",
       "      <td>0.471231</td>\n",
       "      <td>0.479686</td>\n",
       "      <td>0.390603</td>\n",
       "      <td>0.389956</td>\n",
       "      <td>0.570324</td>\n",
       "      <td>0.479474</td>\n",
       "      <td>0.533004</td>\n",
       "      <td>0.423990</td>\n",
       "      <td>...</td>\n",
       "      <td>0.687148</td>\n",
       "      <td>0.529839</td>\n",
       "      <td>0.347115</td>\n",
       "      <td>0.521965</td>\n",
       "      <td>0.412756</td>\n",
       "      <td>0.612938</td>\n",
       "      <td>0.479758</td>\n",
       "      <td>0.465168</td>\n",
       "      <td>0.476047</td>\n",
       "      <td>0.455578</td>\n",
       "    </tr>\n",
       "    <tr>\n",
       "      <th>2520</th>\n",
       "      <td>0.642060</td>\n",
       "      <td>0.447306</td>\n",
       "      <td>0.468711</td>\n",
       "      <td>0.477932</td>\n",
       "      <td>0.389233</td>\n",
       "      <td>0.390288</td>\n",
       "      <td>0.570046</td>\n",
       "      <td>0.477497</td>\n",
       "      <td>0.530066</td>\n",
       "      <td>0.423195</td>\n",
       "      <td>...</td>\n",
       "      <td>0.688046</td>\n",
       "      <td>0.531606</td>\n",
       "      <td>0.345528</td>\n",
       "      <td>0.522736</td>\n",
       "      <td>0.412547</td>\n",
       "      <td>0.614191</td>\n",
       "      <td>0.478047</td>\n",
       "      <td>0.466351</td>\n",
       "      <td>0.473301</td>\n",
       "      <td>0.455353</td>\n",
       "    </tr>\n",
       "  </tbody>\n",
       "</table>\n",
       "<p>2521 rows × 500 columns</p>\n",
       "</div>"
      ],
      "text/plain": [
       "           0         1         2         3         4         5         6    \\\n",
       "0     1.000000  1.000000  1.000000  1.000000  1.000000  1.000000  1.000000   \n",
       "1     0.998007  0.998001  0.996761  0.998183  0.997612  0.994616  1.002461   \n",
       "2     0.997576  0.996776  0.998342  0.992986  0.999383  0.994054  1.000901   \n",
       "3     0.998982  0.995109  1.000991  0.989427  1.003115  0.992211  0.996412   \n",
       "4     1.000743  0.995831  1.000451  0.987260  1.008129  0.988175  0.994554   \n",
       "...        ...       ...       ...       ...       ...       ...       ...   \n",
       "2516  0.646531  0.446625  0.475831  0.480319  0.389355  0.393223  0.568505   \n",
       "2517  0.644886  0.446350  0.472820  0.480337  0.388434  0.391182  0.567268   \n",
       "2518  0.642759  0.447359  0.472839  0.481353  0.390575  0.390764  0.567293   \n",
       "2519  0.642018  0.448552  0.471231  0.479686  0.390603  0.389956  0.570324   \n",
       "2520  0.642060  0.447306  0.468711  0.477932  0.389233  0.390288  0.570046   \n",
       "\n",
       "           7         8         9    ...       490       491       492  \\\n",
       "0     1.000000  1.000000  1.000000  ...  1.000000  1.000000  1.000000   \n",
       "1     1.002811  0.998950  1.001987  ...  1.002655  0.998683  1.001217   \n",
       "2     1.003231  0.997548  0.999166  ...  1.002842  0.999048  1.000925   \n",
       "3     1.002893  1.003881  0.998284  ...  0.999701  0.998021  1.001834   \n",
       "4     0.996513  1.000823  0.995454  ...  1.001879  0.994429  0.997843   \n",
       "...        ...       ...       ...  ...       ...       ...       ...   \n",
       "2516  0.479652  0.534137  0.420652  ...  0.688549  0.527921  0.348885   \n",
       "2517  0.479387  0.534487  0.421750  ...  0.687568  0.530353  0.348626   \n",
       "2518  0.478833  0.534294  0.422947  ...  0.685554  0.528621  0.347512   \n",
       "2519  0.479474  0.533004  0.423990  ...  0.687148  0.529839  0.347115   \n",
       "2520  0.477497  0.530066  0.423195  ...  0.688046  0.531606  0.345528   \n",
       "\n",
       "           493       494       495       496       497       498       499  \n",
       "0     1.000000  1.000000  1.000000  1.000000  1.000000  1.000000  1.000000  \n",
       "1     0.997383  0.999782  1.000636  1.001247  0.997404  1.001014  0.997708  \n",
       "2     0.998544  0.998529  1.002884  0.994984  0.994490  1.000339  0.994421  \n",
       "3     1.000160  1.002097  1.000585  0.992713  0.989169  0.998380  0.995831  \n",
       "4     0.997793  1.001113  1.002667  0.989469  0.986060  0.996415  0.997838  \n",
       "...        ...       ...       ...       ...       ...       ...       ...  \n",
       "2516  0.522435  0.415280  0.616986  0.475066  0.465335  0.477418  0.457224  \n",
       "2517  0.522042  0.414788  0.616907  0.477048  0.465883  0.477895  0.458305  \n",
       "2518  0.523672  0.414943  0.614994  0.477915  0.467971  0.474777  0.458271  \n",
       "2519  0.521965  0.412756  0.612938  0.479758  0.465168  0.476047  0.455578  \n",
       "2520  0.522736  0.412547  0.614191  0.478047  0.466351  0.473301  0.455353  \n",
       "\n",
       "[2521 rows x 500 columns]"
      ]
     },
     "execution_count": 49,
     "metadata": {},
     "output_type": "execute_result"
    }
   ],
   "source": [
    "# Run the Monte Carlo simulation to forecast 10 years cumulative returns\n",
    "mc_sim2.calc_cumulative_return()\n"
   ]
  },
  {
   "cell_type": "code",
   "execution_count": 50,
   "metadata": {},
   "outputs": [
    {
     "data": {
      "text/plain": [
       "<AxesSubplot:title={'center':'500 Simulations of Cumulative Portfolio Return Trajectories Over the Next 2520 Trading Days.'}>"
      ]
     },
     "execution_count": 50,
     "metadata": {},
     "output_type": "execute_result"
    },
    {
     "data": {
      "image/png": "[encoded data removed]",
      "text/plain": [
       "<Figure size 432x288 with 1 Axes>"
      ]
     },
     "metadata": {
      "needs_background": "light"
     },
     "output_type": "display_data"
    }
   ],
   "source": [
    "# Visualize the 10-year Monte Carlo simulation by creating an\n",
    "# overlay line plot\n",
    "mc_sim2.plot_simulation()\n"
   ]
  },
  {
   "cell_type": "code",
   "execution_count": 51,
   "metadata": {},
   "outputs": [
    {
     "data": {
      "text/plain": [
       "<AxesSubplot:title={'center':'Distribution of Final Cumuluative Returns Across All 500 Simulations'}, ylabel='Frequency'>"
      ]
     },
     "execution_count": 51,
     "metadata": {},
     "output_type": "execute_result"
    },
    {
     "data": {
      "image/png": "[encoded data removed]",
      "text/plain": [
       "<Figure size 432x288 with 1 Axes>"
      ]
     },
     "metadata": {
      "needs_background": "light"
     },
     "output_type": "display_data"
    }
   ],
   "source": [
    "# Visualize the probability distribution of the 10-year Monte Carlo simulation \n",
    "# by plotting a histogram\n",
    "mc_sim2.plot_distribution()\n"
   ]
  },
  {
   "cell_type": "code",
   "execution_count": 53,
   "metadata": {},
   "outputs": [
    {
     "name": "stdout",
     "output_type": "stream",
     "text": [
      "count           500.000000\n",
      "mean              0.483408\n",
      "std               0.066495\n",
      "min               0.324458\n",
      "25%               0.437701\n",
      "50%               0.476266\n",
      "75%               0.523424\n",
      "max               0.692138\n",
      "95% CI Lower      0.374257\n",
      "95% CI Upper      0.634397\n",
      "Name: 2520, dtype: float64\n"
     ]
    }
   ],
   "source": [
    "# Generate summary statistics from the 10-year Monte Carlo simulation results\n",
    "# Save the results as a variable\n",
    "mc_sim2_stats = mc_sim2.summarize_cumulative_return()\n",
    "\n",
    "# Review the 10-year Monte Carlo summary statistics\n",
    "print(mc_sim2_stats)"
   ]
  },
  {
   "cell_type": "markdown",
   "metadata": {},
   "source": [
    "### Answer the following questions:"
   ]
  },
  {
   "cell_type": "markdown",
   "metadata": {},
   "source": [
    "#### Question: Using the current value of only the stock and bond portion of the member's portfolio and the summary statistics that you generated from the new Monte Carlo simulation, what are the lower and upper bounds for the expected value of the portfolio (with the new weights) with a 95% confidence interval?"
   ]
  },
  {
   "cell_type": "code",
   "execution_count": 54,
   "metadata": {},
   "outputs": [
    {
     "name": "stdout",
     "output_type": "stream",
     "text": [
      "The current balance of the stock and bond portion of the portfolio is $71835.65\n"
     ]
    }
   ],
   "source": [
    "# Print the current balance of the stock and bond portion of the members portfolio\n",
    "print(f\"The current balance of the stock and bond portion of the portfolio is ${total_stocks_bonds}\")\n"
   ]
  },
  {
   "cell_type": "code",
   "execution_count": 55,
   "metadata": {},
   "outputs": [
    {
     "name": "stdout",
     "output_type": "stream",
     "text": [
      "The lower 95% confidence interval is $ 26884.97\n",
      "The upper 95% confidence interval is $ 45572.35\n"
     ]
    }
   ],
   "source": [
    "# Use the lower and upper `95%` confidence intervals to calculate the range of the possible outcomes for the current stock/bond portfolio\n",
    "ci_lower_ten_cumulative_return = mc_sim2_stats[8] * total_stocks_bonds\n",
    "ci_upper_ten_cumulative_return = mc_sim2_stats[9] * total_stocks_bonds\n",
    "\n",
    "# Print the result of your calculations\n",
    "print(f\"The lower 95% confidence interval is ${ci_lower_ten_cumulative_return: .2f}\")\n",
    "print(f\"The upper 95% confidence interval is ${ci_upper_ten_cumulative_return: .2f}\")\n"
   ]
  },
  {
   "cell_type": "markdown",
   "metadata": {},
   "source": [
    "#### Question: Will weighting the portfolio more heavily to stocks allow the credit union members to retire after only 10 years?"
   ]
  },
  {
   "cell_type": "code",
   "execution_count": null,
   "metadata": {},
   "outputs": [],
   "source": [
    "# There is no way that weighting the portfolio heavily towards stocks will allow anyone to reitre after 10 years\n",
    "# as we can see the upper 95% confidence interval results in a cumulative return of  about $45,572 which is only \n",
    "# enough to last max 4 months based on the $12000 monthly income/expense. "
   ]
  }
 ],
 "metadata": {
  "kernelspec": {
   "display_name": "Python 3 (ipykernel)",
   "language": "python",
   "name": "python3"
  },
  "language_info": {
   "codemirror_mode": {
    "name": "ipython",
    "version": 3
   },
   "file_extension": ".py",
   "mimetype": "text/x-python",
   "name": "python",
   "nbconvert_exporter": "python",
   "pygments_lexer": "ipython3",
   "version": "3.11.5"
  }
 },
 "nbformat": 4,
 "nbformat_minor": 4
}
